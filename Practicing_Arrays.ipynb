{
  "nbformat": 4,
  "nbformat_minor": 0,
  "metadata": {
    "colab": {
      "name": "Practicing Arrays.ipynb",
      "provenance": [],
      "authorship_tag": "ABX9TyOxgFW8wom8Pe24JE79yX5+"
    },
    "kernelspec": {
      "name": "python3",
      "display_name": "Python 3"
    },
    "language_info": {
      "name": "python"
    }
  },
  "cells": [
    {
      "cell_type": "code",
      "execution_count": 1,
      "metadata": {
        "id": "1Qsq8-ovHYEu"
      },
      "outputs": [],
      "source": [
        "# importing modules\n",
        "\n",
        "import array as arr"
      ]
    },
    {
      "cell_type": "code",
      "source": [
        "# arr -> module\n",
        "# array -> constructor\n",
        "# array('i', [1,2,3]) -> here, 'i' is the first element also called as the type code/ datatype identifier. 'i' stands for integer, 'd' would be for decimal or float values, etc. \n",
        "# the datatype identifier corresponds to the list of integers specified as the 2nd element of the array() constructor\n",
        "\n",
        "a = arr.array('i',[1,2,3,4,5])"
      ],
      "metadata": {
        "id": "vD4GO0MoQraC"
      },
      "execution_count": 2,
      "outputs": []
    },
    {
      "cell_type": "code",
      "source": [
        "print(a)"
      ],
      "metadata": {
        "colab": {
          "base_uri": "https://localhost:8080/"
        },
        "id": "7HNf-iP7Q4s0",
        "outputId": "c32a0768-efb0-4471-fc92-9e162abf20a6"
      },
      "execution_count": 3,
      "outputs": [
        {
          "output_type": "stream",
          "name": "stdout",
          "text": [
            "array('i', [1, 2, 3, 4, 5])\n"
          ]
        }
      ]
    },
    {
      "cell_type": "code",
      "source": [
        "#accessing elements of the arrays\n",
        "\n",
        "a[0]    # accessing 1st element"
      ],
      "metadata": {
        "colab": {
          "base_uri": "https://localhost:8080/"
        },
        "id": "KxHSIONlQ5Rz",
        "outputId": "1ddae08c-fa8d-4d43-ebd8-b4f9436cae75"
      },
      "execution_count": 4,
      "outputs": [
        {
          "output_type": "execute_result",
          "data": {
            "text/plain": [
              "1"
            ]
          },
          "metadata": {},
          "execution_count": 4
        }
      ]
    },
    {
      "cell_type": "code",
      "source": [
        "a[3]    # accessing 4th element "
      ],
      "metadata": {
        "colab": {
          "base_uri": "https://localhost:8080/"
        },
        "id": "u3MAcF4aW0Lo",
        "outputId": "ba808989-4ba9-4e05-e8bd-7e1b97121229"
      },
      "execution_count": 5,
      "outputs": [
        {
          "output_type": "execute_result",
          "data": {
            "text/plain": [
              "4"
            ]
          },
          "metadata": {},
          "execution_count": 5
        }
      ]
    },
    {
      "cell_type": "code",
      "source": [
        "a[-1]   # accessing last element"
      ],
      "metadata": {
        "colab": {
          "base_uri": "https://localhost:8080/"
        },
        "id": "zbpy-RfhW08M",
        "outputId": "12d4d30f-bfe2-4364-9ebe-a033a0466219"
      },
      "execution_count": 6,
      "outputs": [
        {
          "output_type": "execute_result",
          "data": {
            "text/plain": [
              "5"
            ]
          },
          "metadata": {},
          "execution_count": 6
        }
      ]
    },
    {
      "cell_type": "code",
      "source": [
        "a[-2]   # accessing 2nd last element "
      ],
      "metadata": {
        "colab": {
          "base_uri": "https://localhost:8080/"
        },
        "id": "FaGFpRNSW5a5",
        "outputId": "82bbe485-e72f-44bf-ad1f-ac6fb0a9554d"
      },
      "execution_count": 7,
      "outputs": [
        {
          "output_type": "execute_result",
          "data": {
            "text/plain": [
              "4"
            ]
          },
          "metadata": {},
          "execution_count": 7
        }
      ]
    },
    {
      "cell_type": "code",
      "source": [
        "#finding length of the array\n",
        "\n",
        "len(a)"
      ],
      "metadata": {
        "colab": {
          "base_uri": "https://localhost:8080/"
        },
        "id": "jf4TeG7_W6Ms",
        "outputId": "fb18bff8-9e81-4795-d815-53a306351154"
      },
      "execution_count": 8,
      "outputs": [
        {
          "output_type": "execute_result",
          "data": {
            "text/plain": [
              "5"
            ]
          },
          "metadata": {},
          "execution_count": 8
        }
      ]
    },
    {
      "cell_type": "code",
      "source": [
        "# Adding elements to an array\n",
        "# append() -> adds one element to the end of the array\n",
        "# extend() -> adds multiple elements to the end of the array\n",
        "# insert() -> adds specific elements at specific positions of the array\n",
        "\n",
        "a = arr.array('i', [1,2,3])\n",
        "\n",
        "a.append(4)       # appending one value at the end of the array\n",
        "print(a)\n",
        "\n",
        "a.extend([5,6])   # appending multiple values at the end of the array -> the values have to be added as a list i.e., in square brackets '[]'\n",
        "print(a)    \n",
        "\n",
        "a.insert(3,0)     # appending one value at a specific position. Here, we insert the value '0' in the 2nd index number i.e., 4th position\n",
        "print(a)"
      ],
      "metadata": {
        "colab": {
          "base_uri": "https://localhost:8080/"
        },
        "id": "vlWEJ5H0dmaB",
        "outputId": "869206e4-9511-4e50-e412-abfd3bfba1c5"
      },
      "execution_count": 9,
      "outputs": [
        {
          "output_type": "stream",
          "name": "stdout",
          "text": [
            "array('i', [1, 2, 3, 4])\n",
            "array('i', [1, 2, 3, 4, 5, 6])\n",
            "array('i', [1, 2, 3, 0, 4, 5, 6])\n"
          ]
        }
      ]
    },
    {
      "cell_type": "code",
      "source": [
        "# Removing elements from an array\n",
        "\n",
        "# pop() -> removes a value and returns it.\n",
        "### Can take either no parameters or one parameter.\n",
        "### The paramenter specified is the index value of the element to be removed. \n",
        "\n",
        "# remove() -> removes a specific value without returning anyting. \n",
        "### takes one parameter which is the element itself\n",
        "\n",
        "\n",
        "print(a)\n",
        "print(\"popping last element:\", a.pop())\n",
        "print(\"popping specific element using the index value: \", a.pop(3))\n",
        "print(\"using remove() function:\",a.remove(5), \", and now printing the array:\", a)"
      ],
      "metadata": {
        "colab": {
          "base_uri": "https://localhost:8080/"
        },
        "id": "BS63JxvhgOT6",
        "outputId": "634eeeb7-350e-459d-b3cf-78fe52f194aa"
      },
      "execution_count": 10,
      "outputs": [
        {
          "output_type": "stream",
          "name": "stdout",
          "text": [
            "array('i', [1, 2, 3, 0, 4, 5, 6])\n",
            "popping last element: 6\n",
            "popping specific element using the index value:  0\n",
            "using remove() function: None , and now printing the array: array('i', [1, 2, 3, 4])\n"
          ]
        }
      ]
    },
    {
      "cell_type": "code",
      "source": [
        "# array concatenation\n",
        "\n",
        "print(a)\n",
        "b = arr.array('i',[100,101,102])\n",
        "print(b)\n",
        "\n",
        "#using '+' to concatenate 'a' and 'b' \n",
        "\n",
        "c = arr.array('i')\n",
        "c = a + b\n",
        "print(c)"
      ],
      "metadata": {
        "colab": {
          "base_uri": "https://localhost:8080/"
        },
        "id": "KnS0xY5WpcHQ",
        "outputId": "b4d4a483-cb8e-44d9-f3fc-ae5a58019ccf"
      },
      "execution_count": 12,
      "outputs": [
        {
          "output_type": "stream",
          "name": "stdout",
          "text": [
            "array('i', [1, 2, 3, 4])\n",
            "array('i', [100, 101, 102])\n",
            "array('i', [1, 2, 3, 4, 100, 101, 102])\n"
          ]
        }
      ]
    },
    {
      "cell_type": "code",
      "source": [
        "# Slicing an Array\n",
        "\n",
        "# slicing an array refers to fetching particular values from the array\n",
        "# think of it like the statement, \"get me a slice of pie\". Here, you cut out a slice and get it. \n",
        "# Similarly, slicing an array means cutting out a piece of the array and getting it. \n",
        "# We use the colon symbol ':' to slice an array and write the index numbers before and after the colon symbol. \n",
        "print(\"Array: \", c, \"\\n\")\n",
        "\n",
        "print(c[0:3])   # 0 -> from the 1st index number, 3 -> to just before the 4th index number"
      ],
      "metadata": {
        "colab": {
          "base_uri": "https://localhost:8080/"
        },
        "id": "SzoLOgjaqL7d",
        "outputId": "19268ebd-12ee-4239-f347-45ad705da984"
      },
      "execution_count": 20,
      "outputs": [
        {
          "output_type": "stream",
          "name": "stdout",
          "text": [
            "Array:  array('i', [1, 2, 3, 4, 100, 101, 102]) \n",
            "\n",
            "array('i', [1, 2, 3])\n"
          ]
        }
      ]
    },
    {
      "cell_type": "code",
      "source": [
        "print(\"Array: \", c, \"\\n\")\n",
        "print(c[0:-2])    # \"-2\" -> second last index number in the array"
      ],
      "metadata": {
        "colab": {
          "base_uri": "https://localhost:8080/"
        },
        "id": "RwDnObH1rJ75",
        "outputId": "6adfff0d-9a93-45f1-8bdf-6d53ea86e693"
      },
      "execution_count": 19,
      "outputs": [
        {
          "output_type": "stream",
          "name": "stdout",
          "text": [
            "Array:  array('i', [1, 2, 3, 4, 100, 101, 102]) \n",
            "\n",
            "array('i', [1, 2, 3, 4, 100])\n"
          ]
        }
      ]
    },
    {
      "cell_type": "code",
      "source": [
        "# Reversing an Array\n",
        "\n",
        "# We use double colon symbols \"::-1\" to reverse arrays\n",
        "\n",
        "print(\"Array:\", c, \"\\n\")\n",
        "\n",
        "print(c[::-1])"
      ],
      "metadata": {
        "colab": {
          "base_uri": "https://localhost:8080/"
        },
        "id": "zRbyWShwrse-",
        "outputId": "04fa9b61-a315-4fc2-b170-3a72a60b498e"
      },
      "execution_count": 23,
      "outputs": [
        {
          "output_type": "stream",
          "name": "stdout",
          "text": [
            "Array: array('i', [1, 2, 3, 4, 100, 101, 102]) \n",
            "\n",
            "array('i', [102, 101, 100, 4, 3, 2, 1])\n"
          ]
        }
      ]
    },
    {
      "cell_type": "code",
      "source": [
        "# Looping through an array\n",
        "print(\"array:\",a,\"\\n\")\n",
        "\n",
        "for x in a:\n",
        "  print(x)"
      ],
      "metadata": {
        "colab": {
          "base_uri": "https://localhost:8080/"
        },
        "id": "Whoi03G1scfs",
        "outputId": "731c1fc1-dab5-4c1f-be98-a7d4842dde97"
      },
      "execution_count": 25,
      "outputs": [
        {
          "output_type": "stream",
          "name": "stdout",
          "text": [
            "array: array('i', [1, 2, 3, 4]) \n",
            "\n",
            "1\n",
            "2\n",
            "3\n",
            "4\n"
          ]
        }
      ]
    },
    {
      "cell_type": "code",
      "source": [
        "print(\"array:\",c,\"\\n\")\n",
        "\n",
        "for x in c[0:-2]:\n",
        "  print(x)"
      ],
      "metadata": {
        "colab": {
          "base_uri": "https://localhost:8080/"
        },
        "id": "Nrr_UphXs1L1",
        "outputId": "89c31f8d-c031-4ea2-b6b7-b99bcbdcfbad"
      },
      "execution_count": 28,
      "outputs": [
        {
          "output_type": "stream",
          "name": "stdout",
          "text": [
            "array: array('i', [1, 2, 3, 4, 100, 101, 102]) \n",
            "\n",
            "1\n",
            "2\n",
            "3\n",
            "4\n",
            "100\n"
          ]
        }
      ]
    },
    {
      "cell_type": "code",
      "source": [
        "print(\"array:\",c,\"\\n\")\n",
        "\n",
        "for x in c[0:-2]:\n",
        "  print(x if x==3 else 0)"
      ],
      "metadata": {
        "colab": {
          "base_uri": "https://localhost:8080/"
        },
        "id": "28jQOai9tKLs",
        "outputId": "2c6ee554-1bd2-4f81-cfe4-cfdc0f479dc3"
      },
      "execution_count": 35,
      "outputs": [
        {
          "output_type": "stream",
          "name": "stdout",
          "text": [
            "array: array('i', [1, 2, 3, 4, 100, 101, 102]) \n",
            "\n",
            "0\n",
            "0\n",
            "3\n",
            "0\n",
            "0\n"
          ]
        }
      ]
    },
    {
      "cell_type": "code",
      "source": [
        "print(\"Array:\", c, \"\\n\")\n",
        "\n",
        "temp = 0              # while loop initialization\n",
        "\n",
        "while temp<4:         # while loop condition\n",
        "  print(c[temp])\n",
        "  temp = temp + 1     # while loop increment/decrement"
      ],
      "metadata": {
        "colab": {
          "base_uri": "https://localhost:8080/"
        },
        "id": "oigvKLjZtXHJ",
        "outputId": "b2773b10-c7c6-4882-f997-a102b6655b9d"
      },
      "execution_count": 39,
      "outputs": [
        {
          "output_type": "stream",
          "name": "stdout",
          "text": [
            "Array: array('i', [1, 2, 3, 4, 100, 101, 102]) \n",
            "\n",
            "1\n",
            "2\n",
            "3\n",
            "4\n"
          ]
        }
      ]
    },
    {
      "cell_type": "code",
      "source": [
        "print(\"Array:\", c, \"\\n\")\n",
        "\n",
        "temp = 0              # while loop initialization\n",
        "\n",
        "while temp<4:         # while loop condition\n",
        "  print(c[temp])\n",
        "  temp += 1     # while loop increment/decrement"
      ],
      "metadata": {
        "colab": {
          "base_uri": "https://localhost:8080/"
        },
        "id": "E0SImMjEuEp9",
        "outputId": "e3f1daea-ac41-41bc-a159-ace080325d9d"
      },
      "execution_count": 40,
      "outputs": [
        {
          "output_type": "stream",
          "name": "stdout",
          "text": [
            "Array: array('i', [1, 2, 3, 4, 100, 101, 102]) \n",
            "\n",
            "1\n",
            "2\n",
            "3\n",
            "4\n"
          ]
        }
      ]
    },
    {
      "cell_type": "code",
      "source": [
        "print(\"Array:\", c, \"\\n\")\n",
        "\n",
        "temp = 0              # while loop initialization\n",
        "\n",
        "while temp < len(c):         # while loop condition\n",
        "  print(c[temp])\n",
        "  temp += 1     # while loop increment/decrement"
      ],
      "metadata": {
        "colab": {
          "base_uri": "https://localhost:8080/"
        },
        "id": "AbMGrisSuo0s",
        "outputId": "605bcb97-c9c4-4051-81dd-707cbead6679"
      },
      "execution_count": 41,
      "outputs": [
        {
          "output_type": "stream",
          "name": "stdout",
          "text": [
            "Array: array('i', [1, 2, 3, 4, 100, 101, 102]) \n",
            "\n",
            "1\n",
            "2\n",
            "3\n",
            "4\n",
            "100\n",
            "101\n",
            "102\n"
          ]
        }
      ]
    },
    {
      "cell_type": "code",
      "source": [
        ""
      ],
      "metadata": {
        "id": "uVdpRtdnuwpH"
      },
      "execution_count": null,
      "outputs": []
    }
  ]
}