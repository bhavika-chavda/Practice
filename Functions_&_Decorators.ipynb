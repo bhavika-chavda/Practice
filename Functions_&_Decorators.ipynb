{
  "nbformat": 4,
  "nbformat_minor": 0,
  "metadata": {
    "colab": {
      "name": "Functions & Decorators.ipynb",
      "provenance": [],
      "authorship_tag": "ABX9TyNaanUQvFLmRZuk1HY3tIin",
      "include_colab_link": true
    },
    "kernelspec": {
      "name": "python3",
      "display_name": "Python 3"
    },
    "language_info": {
      "name": "python"
    }
  },
  "cells": [
    {
      "cell_type": "markdown",
      "metadata": {
        "id": "view-in-github",
        "colab_type": "text"
      },
      "source": [
        "<a href=\"https://colab.research.google.com/github/bhavika-chavda/Practice/blob/main/Functions_%26_Decorators.ipynb\" target=\"_parent\"><img src=\"https://colab.research.google.com/assets/colab-badge.svg\" alt=\"Open In Colab\"/></a>"
      ]
    },
    {
      "cell_type": "markdown",
      "source": [
        "#Functions"
      ],
      "metadata": {
        "id": "yURnICtwAio0"
      }
    },
    {
      "cell_type": "code",
      "execution_count": 4,
      "metadata": {
        "colab": {
          "base_uri": "https://localhost:8080/"
        },
        "id": "ATc1Qq0A8Y84",
        "outputId": "0fc3ca5f-dc92-4648-ab25-28cb9426f867"
      },
      "outputs": [
        {
          "output_type": "stream",
          "name": "stdout",
          "text": [
            "Hi Dear learner\n",
            "Dear learner, how are you?\n"
          ]
        }
      ],
      "source": [
        "def func1(name):\n",
        "  return f\"Hi {name}\"\n",
        "\n",
        "def func2(name):\n",
        "  return f\"{name}, how are you?\"\n",
        "\n",
        "def func3(func4):\n",
        "  return func4('Dear learner')\n",
        "\n",
        "print(func3(func1))\n",
        "print(func3(func2))"
      ]
    },
    {
      "cell_type": "code",
      "source": [
        "# Function within a function\n",
        "\n",
        "def func1():\n",
        "  print(\"parent function\")\n",
        "  def func2():\n",
        "    print(\"1st child func\")\n",
        "  def func3():\n",
        "    print(\"2nd child func\")\n",
        "  \n",
        "  func2()\n",
        "  func3()\n",
        "\n",
        "func1()"
      ],
      "metadata": {
        "colab": {
          "base_uri": "https://localhost:8080/"
        },
        "id": "8vZzhKRLBzEa",
        "outputId": "9e05ef8d-06ee-49c3-a33d-2e398e2cc94e"
      },
      "execution_count": 6,
      "outputs": [
        {
          "output_type": "stream",
          "name": "stdout",
          "text": [
            "parent function\n",
            "1st child func\n",
            "2nd child func\n"
          ]
        }
      ]
    },
    {
      "cell_type": "code",
      "source": [
        "# Return a function in a function \n",
        "\n",
        "def func1(n):\n",
        "  def func2():\n",
        "    return \"1st inner function\"\n",
        "  def func3():\n",
        "    return \"2nd inner function\"\n",
        "  if n ==1:\n",
        "    return func2()\n",
        "  else:\n",
        "    return func3()\n",
        "\n",
        "a = func1(1)\n",
        "b = func1(2)\n",
        "\n",
        "print(a)\n",
        "print(b)\n"
      ],
      "metadata": {
        "colab": {
          "base_uri": "https://localhost:8080/"
        },
        "id": "lhxwbXtYCu8a",
        "outputId": "e38524ba-51a8-41a3-b5b6-839c0cc01543"
      },
      "execution_count": 11,
      "outputs": [
        {
          "output_type": "stream",
          "name": "stdout",
          "text": [
            "1st inner function\n",
            "2nd inner function\n"
          ]
        }
      ]
    },
    {
      "cell_type": "markdown",
      "source": [
        "# Decorators\n",
        "\n",
        "They modify the function behaviour without modifying it permanently. It basically wraps another function and since both functions are callable, it returns a callable. "
      ],
      "metadata": {
        "id": "Jd73wqCVFyhf"
      }
    },
    {
      "cell_type": "code",
      "source": [
        "# Example 1:\n",
        "\n",
        "def function1(function):\n",
        "  def wrapper():\n",
        "    print(\"hello\")\n",
        "    function()\n",
        "    print(\"Welcome!\")\n",
        "  return wrapper\n",
        "def function2():\n",
        "  print(\"2nd function\")\n",
        "\n",
        "function2 = function1(function2)\n",
        "function2()"
      ],
      "metadata": {
        "colab": {
          "base_uri": "https://localhost:8080/"
        },
        "id": "kg8vy1FoD4JC",
        "outputId": "fe6ab116-fdec-4752-fe82-02aeb28af660"
      },
      "execution_count": 14,
      "outputs": [
        {
          "output_type": "stream",
          "name": "stdout",
          "text": [
            "hello\n",
            "2nd function\n",
            "Welcome!\n"
          ]
        }
      ]
    },
    {
      "cell_type": "code",
      "source": [
        "# Example 2:\n",
        "\n",
        "def function1(function):\n",
        "  def wrapper():\n",
        "    print(\"hello\")\n",
        "    function()\n",
        "    print(\"Welcome!\")\n",
        "  return wrapper\n",
        "@function1\n",
        "def function2():\n",
        "  print(\"2nd function\")\n",
        "\n",
        "function2()"
      ],
      "metadata": {
        "colab": {
          "base_uri": "https://localhost:8080/"
        },
        "id": "rOsx3lbrG3zk",
        "outputId": "edba859c-0c38-4fef-91f3-20038be117fc"
      },
      "execution_count": 15,
      "outputs": [
        {
          "output_type": "stream",
          "name": "stdout",
          "text": [
            "hello\n",
            "2nd function\n",
            "Welcome!\n"
          ]
        }
      ]
    },
    {
      "cell_type": "code",
      "source": [
        ""
      ],
      "metadata": {
        "id": "g1zjI_4THaKK"
      },
      "execution_count": null,
      "outputs": []
    }
  ]
}