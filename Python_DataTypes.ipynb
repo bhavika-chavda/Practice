{
  "nbformat": 4,
  "nbformat_minor": 0,
  "metadata": {
    "colab": {
      "name": "Python DataTypes.ipynb",
      "provenance": [],
      "collapsed_sections": [],
      "authorship_tag": "ABX9TyOJQIB/OPrswnvE5SgleAxk",
      "include_colab_link": true
    },
    "kernelspec": {
      "name": "python3",
      "display_name": "Python 3"
    },
    "language_info": {
      "name": "python"
    }
  },
  "cells": [
    {
      "cell_type": "markdown",
      "metadata": {
        "id": "view-in-github",
        "colab_type": "text"
      },
      "source": [
        "<a href=\"https://colab.research.google.com/github/bhavika-chavda/Practice/blob/main/Python_DataTypes.ipynb\" target=\"_parent\"><img src=\"https://colab.research.google.com/assets/colab-badge.svg\" alt=\"Open In Colab\"/></a>"
      ]
    },
    {
      "cell_type": "code",
      "execution_count": 1,
      "metadata": {
        "colab": {
          "base_uri": "https://localhost:8080/",
          "height": 132
        },
        "id": "G0YA4k2nvUyi",
        "outputId": "e0f5a04a-9ab1-4780-e13d-1361ae0703d7"
      },
      "outputs": [
        {
          "output_type": "execute_result",
          "data": {
            "application/vnd.google.colaboratory.intrinsic+json": {
              "type": "string"
            },
            "text/plain": [
              "'\\n\\nDatatypes in Python\\n\\n1. Number -> integers/ decimals \\n\\n2. String -> characters/ words, immutable (cannot be changed on index numbers), can be sliced\\n\\n3. Collections:\\n(a)  List -> [1, 2, 3] -> mutable (can be changed on index numbers), can have different data types \\n(b)  Dictionary -> {1: \\'a\\', 2: \\'b\\'} -> key-value pairs, mutable \\n(c)  Tuple -> (\\'1\\', 1, \\'good\\') -> ordered, immutable, duplicates are present \\n(d)  Set -> {\"a\", \"b\", \"c\"} -> unordered, no duplicates present, does not support indexing\\n\\n4. Range() -> list(range(11)) = 0,1,2,3,4,5,6,7,8,9,10\\n\\n'"
            ]
          },
          "metadata": {},
          "execution_count": 1
        }
      ],
      "source": [
        "\"\"\"\n",
        "\n",
        "Datatypes in Python\n",
        "\n",
        "1. Number -> integers/ decimals \n",
        "\n",
        "2. String -> characters/ words, immutable (cannot be changed on index numbers), can be sliced\n",
        "\n",
        "3. Collections:\n",
        "(a)  List -> [1, 2, 3] -> mutable (can be changed on index numbers), can have different data types \n",
        "(b)  Dictionary -> {1: 'a', 2: 'b'} -> key-value pairs, mutable \n",
        "(c)  Tuple -> ('1', 1, 'good') -> ordered, immutable, duplicates are present \n",
        "(d)  Set -> {\"a\", \"b\", \"c\"} -> unordered, no duplicates present, does not support indexing\n",
        "\n",
        "4. Range() -> list(range(11)) = 0,1,2,3,4,5,6,7,8,9,10\n",
        "\n",
        "\"\"\""
      ]
    },
    {
      "cell_type": "code",
      "source": [
        "# 'Collection' Module -> Specialized 'Collection' data structures\n",
        "# Used when you want to work with Collection datatypes i.e., list, dictionary, tuple, set\n",
        "\n",
        "\"\"\"\n",
        "\n",
        "1. namedtuple()\n",
        "2. Chaimmap\n",
        "3. deque\n",
        "4. Counter\n",
        "5. OrderedDict\n",
        "6. defailtdict\n",
        "7. UserDict\n",
        "8. UserList\n",
        "9. UserString\n",
        "\n",
        "\"\"\"\n"
      ],
      "metadata": {
        "colab": {
          "base_uri": "https://localhost:8080/",
          "height": 50
        },
        "id": "_MU0YyHuVL8c",
        "outputId": "6aab6d73-a15e-4ca3-c7e0-d1f36829297f"
      },
      "execution_count": 2,
      "outputs": [
        {
          "output_type": "execute_result",
          "data": {
            "application/vnd.google.colaboratory.intrinsic+json": {
              "type": "string"
            },
            "text/plain": [
              "'\\n\\n1. namedtuple()\\n2. Chaimmap\\n3. deque\\n4. Counter\\n5. OrderedDict\\n6. defailtdict\\n7. UserDict\\n8. UserList\\n9. UserString\\n\\n'"
            ]
          },
          "metadata": {},
          "execution_count": 2
        }
      ]
    },
    {
      "cell_type": "code",
      "source": [
        "# namedtuple()\n",
        "# returns a tuple with a named value for each element in the tuple\n",
        "\n",
        "from collections import namedtuple\n",
        "\n",
        "a = namedtuple('courses', 'name, technology')\n",
        "x = a('data science', 'python')\n",
        "\n",
        "print(x)"
      ],
      "metadata": {
        "colab": {
          "base_uri": "https://localhost:8080/"
        },
        "id": "tRryvY2dU5AL",
        "outputId": "b4f6053a-97dc-4f36-e38f-0c9b23e0d030"
      },
      "execution_count": 3,
      "outputs": [
        {
          "output_type": "stream",
          "name": "stdout",
          "text": [
            "courses(name='data science', technology='python')\n"
          ]
        }
      ]
    },
    {
      "cell_type": "code",
      "source": [
        "# using a list to namedtuple(). This can be done to add multiple values at one time.\n",
        "\n",
        "a = namedtuple('course', 'name, technology')\n",
        "\n",
        "list_variable = a._make([['ML', 'Data Science', 'Graphics'],['Python', 'R', 'Photoshop']])\n",
        "\n",
        "print(list_variable)"
      ],
      "metadata": {
        "colab": {
          "base_uri": "https://localhost:8080/"
        },
        "id": "xEssvBQxVdyu",
        "outputId": "a3e02bf4-c0b6-4cd8-d656-6591aaa5406c"
      },
      "execution_count": 4,
      "outputs": [
        {
          "output_type": "stream",
          "name": "stdout",
          "text": [
            "course(name=['ML', 'Data Science', 'Graphics'], technology=['Python', 'R', 'Photoshop'])\n"
          ]
        }
      ]
    },
    {
      "cell_type": "code",
      "source": [
        "# deque -> optimized list to perform insertion & deletion easily\n",
        "\n",
        "from collections import deque\n",
        "\n",
        "a = ['a','b','c','d']\n",
        "\n",
        "d = deque(a)\n",
        "print(d)"
      ],
      "metadata": {
        "colab": {
          "base_uri": "https://localhost:8080/"
        },
        "id": "TxX2iAvyWD-w",
        "outputId": "9f7883cf-8c6c-46f4-8e4c-fb24a97c800b"
      },
      "execution_count": 5,
      "outputs": [
        {
          "output_type": "stream",
          "name": "stdout",
          "text": [
            "deque(['a', 'b', 'c', 'd'])\n"
          ]
        }
      ]
    },
    {
      "cell_type": "code",
      "source": [
        "#appending value to deque\n",
        "\n",
        "d.append('e')\n",
        "print(d)"
      ],
      "metadata": {
        "colab": {
          "base_uri": "https://localhost:8080/"
        },
        "id": "x2DODym1okrJ",
        "outputId": "859dae3d-abd2-4f74-e0f8-f62221801563"
      },
      "execution_count": 6,
      "outputs": [
        {
          "output_type": "stream",
          "name": "stdout",
          "text": [
            "deque(['a', 'b', 'c', 'd', 'e'])\n"
          ]
        }
      ]
    },
    {
      "cell_type": "code",
      "source": [
        "#appending value to beginning of deck\n",
        "\n",
        "d.appendleft('x')\n",
        "print(d)"
      ],
      "metadata": {
        "colab": {
          "base_uri": "https://localhost:8080/"
        },
        "id": "0fpbrB3XoqpX",
        "outputId": "9cfaded9-934b-486b-ff0f-1a5436c2a2de"
      },
      "execution_count": 7,
      "outputs": [
        {
          "output_type": "stream",
          "name": "stdout",
          "text": [
            "deque(['x', 'a', 'b', 'c', 'd', 'e'])\n"
          ]
        }
      ]
    },
    {
      "cell_type": "code",
      "source": [
        "print('Original Deque:', d)\n",
        "# deleting value from end of deck\n",
        "d.pop()\n",
        "print(\"Deque after simple pop():\",d)\n",
        "\n",
        "#deleting 1st value of deck\n",
        "d.popleft()\n",
        "print(\"Deque after popleft():\",d)"
      ],
      "metadata": {
        "colab": {
          "base_uri": "https://localhost:8080/"
        },
        "id": "0wA49vNbow14",
        "outputId": "00067860-870c-481c-b003-68ff5beb1246"
      },
      "execution_count": 8,
      "outputs": [
        {
          "output_type": "stream",
          "name": "stdout",
          "text": [
            "Original Deque: deque(['x', 'a', 'b', 'c', 'd', 'e'])\n",
            "Deque after simple pop(): deque(['x', 'a', 'b', 'c', 'd'])\n",
            "Deque after popleft(): deque(['a', 'b', 'c', 'd'])\n"
          ]
        }
      ]
    },
    {
      "cell_type": "code",
      "source": [
        "# Chainmap -> it is a dictionary like class for creating a single variable of multiple mappings of dictionaries\n",
        "\n",
        "from collections import ChainMap\n",
        "\n",
        "a = {1:'a', 2:'b'}        #defining 1st dictionary\n",
        "b = {100:'x',102:'y'}     #defining 2nd dictionary\n",
        "\n",
        "print(ChainMap(a,b))      #will print both dictionaries in one variable format separated by commas ',' "
      ],
      "metadata": {
        "colab": {
          "base_uri": "https://localhost:8080/"
        },
        "id": "elbLYf30o898",
        "outputId": "15e73818-fbfb-459c-e937-b03a9c20c970"
      },
      "execution_count": 9,
      "outputs": [
        {
          "output_type": "stream",
          "name": "stdout",
          "text": [
            "ChainMap({1: 'a', 2: 'b'}, {100: 'x', 102: 'y'})\n"
          ]
        }
      ]
    },
    {
      "cell_type": "code",
      "source": [
        "# Counter -> it is a dict. subclass for counting hashable objects meaning it counts the number of times an element exists in an object.\n",
        "# See the example below.\n",
        "\n",
        "from collections import Counter\n",
        "\n",
        "a = [1,2,3,4,5,5,6,6,6,7,8]\n",
        "\n",
        "print(Counter(a))   # will print the number of times each exists in the list 'a'"
      ],
      "metadata": {
        "colab": {
          "base_uri": "https://localhost:8080/"
        },
        "id": "jFXsSQG3qMau",
        "outputId": "bf5635da-4d55-4da5-9849-e0bc3b437bdf"
      },
      "execution_count": 10,
      "outputs": [
        {
          "output_type": "stream",
          "name": "stdout",
          "text": [
            "Counter({6: 3, 5: 2, 1: 1, 2: 1, 3: 1, 4: 1, 7: 1, 8: 1})\n"
          ]
        }
      ]
    },
    {
      "cell_type": "code",
      "source": [
        "# printing the elements of the Counter in a list format using the elements() function\n",
        "\n",
        "print(list(Counter(a).elements()))"
      ],
      "metadata": {
        "colab": {
          "base_uri": "https://localhost:8080/"
        },
        "id": "mWZUiQ9NqtFX",
        "outputId": "370e4b1d-6174-42f2-8c37-42bce210620f"
      },
      "execution_count": 11,
      "outputs": [
        {
          "output_type": "stream",
          "name": "stdout",
          "text": [
            "[1, 2, 3, 4, 5, 5, 6, 6, 6, 7, 8]\n"
          ]
        }
      ]
    },
    {
      "cell_type": "code",
      "source": [
        "# removing elements from Counter using remove()\n",
        "\n",
        "sub = 6\n",
        "\n",
        "a.remove(sub)\n",
        "\n",
        "print(a)"
      ],
      "metadata": {
        "colab": {
          "base_uri": "https://localhost:8080/"
        },
        "id": "5skdq4Ies09K",
        "outputId": "9caa4620-f52a-44fc-ea9f-e8f8d80d1894"
      },
      "execution_count": 12,
      "outputs": [
        {
          "output_type": "stream",
          "name": "stdout",
          "text": [
            "[1, 2, 3, 4, 5, 5, 6, 6, 7, 8]\n"
          ]
        }
      ]
    },
    {
      "cell_type": "code",
      "source": [
        "# Count the number of times an element exists in the Counter using count()\n",
        "\n",
        "a.count(5)"
      ],
      "metadata": {
        "colab": {
          "base_uri": "https://localhost:8080/"
        },
        "id": "W5nQRSDcUyWB",
        "outputId": "ba16d40d-8fb4-4b17-f875-8453ee0f76a8"
      },
      "execution_count": 13,
      "outputs": [
        {
          "output_type": "execute_result",
          "data": {
            "text/plain": [
              "2"
            ]
          },
          "metadata": {},
          "execution_count": 13
        }
      ]
    },
    {
      "cell_type": "code",
      "source": [
        "# OrderedDict -> it is a dict. subclass which remembers the order in which the entries were done.\n",
        "\n",
        "from collections import OrderedDict\n",
        "\n",
        "od = OrderedDict()\n",
        "\n",
        "od[1] = 'a'\n",
        "od[2] = 'b'\n",
        "od[3] = 'c'\n",
        "od[4] = 'd'\n",
        "od[5] = 'e'\n",
        "\n",
        "print(od)"
      ],
      "metadata": {
        "colab": {
          "base_uri": "https://localhost:8080/"
        },
        "id": "4YTBRIi3XT2F",
        "outputId": "1f125137-5646-4139-a2bb-229de4b245f3"
      },
      "execution_count": 14,
      "outputs": [
        {
          "output_type": "stream",
          "name": "stdout",
          "text": [
            "OrderedDict([(1, 'a'), (2, 'b'), (3, 'c'), (4, 'd'), (5, 'e')])\n"
          ]
        }
      ]
    },
    {
      "cell_type": "code",
      "source": [
        "print(od.keys())"
      ],
      "metadata": {
        "colab": {
          "base_uri": "https://localhost:8080/"
        },
        "id": "3Ayj7_uibQj2",
        "outputId": "a7d5b72a-aa07-4381-f40b-3b95b0adc8ed"
      },
      "execution_count": 15,
      "outputs": [
        {
          "output_type": "stream",
          "name": "stdout",
          "text": [
            "odict_keys([1, 2, 3, 4, 5])\n"
          ]
        }
      ]
    },
    {
      "cell_type": "code",
      "source": [
        "print(od.items())"
      ],
      "metadata": {
        "colab": {
          "base_uri": "https://localhost:8080/"
        },
        "id": "HFpgBmQ7bixZ",
        "outputId": "a479c8c1-f02e-4148-98e6-1fe97c62caa3"
      },
      "execution_count": 16,
      "outputs": [
        {
          "output_type": "stream",
          "name": "stdout",
          "text": [
            "odict_items([(1, 'a'), (2, 'b'), (3, 'c'), (4, 'd'), (5, 'e')])\n"
          ]
        }
      ]
    },
    {
      "cell_type": "code",
      "source": [
        "od[3] = 'different_value'\n",
        "\n",
        "print(od)"
      ],
      "metadata": {
        "colab": {
          "base_uri": "https://localhost:8080/"
        },
        "id": "hA488xt4blVT",
        "outputId": "d98345f0-8105-4955-ba5a-9896d5b51615"
      },
      "execution_count": 17,
      "outputs": [
        {
          "output_type": "stream",
          "name": "stdout",
          "text": [
            "OrderedDict([(1, 'a'), (2, 'b'), (3, 'different_value'), (4, 'd'), (5, 'e')])\n"
          ]
        }
      ]
    },
    {
      "cell_type": "code",
      "source": [
        "# defaultdict -> dict. subclass which calls a factory dunction to supply missiong values\n",
        "\n",
        "from collections import defaultdict\n",
        "\n",
        "dd = defaultdict(int)\n",
        "dd['a'] = 1\n",
        "dd['b'] = 2\n",
        "\n",
        "print(dd)\n",
        "\n",
        "# Let's try printing a key-value pair that does not exist\n",
        "## although the key 'c' does not exist, it will not throw any \"key: value\" error\n",
        "\n",
        "print(dd['c'])    \n"
      ],
      "metadata": {
        "colab": {
          "base_uri": "https://localhost:8080/"
        },
        "id": "TIqLLFzwbwS_",
        "outputId": "43c44bde-b6f6-4d26-eae4-d797938a48dd"
      },
      "execution_count": 18,
      "outputs": [
        {
          "output_type": "stream",
          "name": "stdout",
          "text": [
            "defaultdict(<class 'int'>, {'a': 1, 'b': 2})\n",
            "0\n"
          ]
        }
      ]
    },
    {
      "cell_type": "code",
      "source": [
        "# UserDict -> wrapper around dict. objects -> dict. subclassing \n",
        "# UserList -> wrapper around List objects -> List subclassing \n",
        "# UserDict -> wrapper around string objects -> string subclassing "
      ],
      "metadata": {
        "id": "eerlkU3tcUnA"
      },
      "execution_count": null,
      "outputs": []
    }
  ]
}