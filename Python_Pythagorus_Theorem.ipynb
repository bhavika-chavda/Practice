{
  "nbformat": 4,
  "nbformat_minor": 0,
  "metadata": {
    "colab": {
      "name": "Python - Pythagorus Theorem.ipynb",
      "provenance": [],
      "authorship_tag": "ABX9TyOJEVkG/97mhhj1LiZL4cmP",
      "include_colab_link": true
    },
    "kernelspec": {
      "name": "python3",
      "display_name": "Python 3"
    },
    "language_info": {
      "name": "python"
    }
  },
  "cells": [
    {
      "cell_type": "markdown",
      "metadata": {
        "id": "view-in-github",
        "colab_type": "text"
      },
      "source": [
        "<a href=\"https://colab.research.google.com/github/bhavika-chavda/Practice/blob/main/Python_Pythagorus_Theorem.ipynb\" target=\"_parent\"><img src=\"https://colab.research.google.com/assets/colab-badge.svg\" alt=\"Open In Colab\"/></a>"
      ]
    },
    {
      "cell_type": "code",
      "execution_count": 1,
      "metadata": {
        "colab": {
          "base_uri": "https://localhost:8080/"
        },
        "id": "VhfUolTtlBdC",
        "outputId": "032f515c-257b-451d-f709-2d3677e72c1a"
      },
      "outputs": [
        {
          "output_type": "stream",
          "name": "stdout",
          "text": [
            "Maximum number?  : 15\n",
            "3 4 5\n",
            "5 12 13\n",
            "6 8 10\n",
            "9 12 15\n"
          ]
        }
      ],
      "source": [
        "from math import sqrt\n",
        "\n",
        "n = int(input(\"Maximum number?  : \"))\n",
        "\n",
        "for a in range(1,n+1):\n",
        "  for b in range(a,n):\n",
        "    c_square = a**2 + b**2\n",
        "    c = int(sqrt(c_square))\n",
        "    if((c_square - c**2) == 0):\n",
        "      print(a, b, c)\n"
      ]
    },
    {
      "cell_type": "code",
      "source": [
        ""
      ],
      "metadata": {
        "id": "gpkFNUfdq6QC"
      },
      "execution_count": null,
      "outputs": []
    }
  ]
}