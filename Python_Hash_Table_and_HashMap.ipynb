{
  "nbformat": 4,
  "nbformat_minor": 0,
  "metadata": {
    "colab": {
      "name": "Python - Hash Table and HashMap.ipynb",
      "provenance": [],
      "authorship_tag": "ABX9TyOn7umJpeMSykKvn9iZ0jZa",
      "include_colab_link": true
    },
    "kernelspec": {
      "name": "python3",
      "display_name": "Python 3"
    },
    "language_info": {
      "name": "python"
    }
  },
  "cells": [
    {
      "cell_type": "markdown",
      "metadata": {
        "id": "view-in-github",
        "colab_type": "text"
      },
      "source": [
        "<a href=\"https://colab.research.google.com/github/bhavika-chavda/Practice/blob/main/Python_Hash_Table_and_HashMap.ipynb\" target=\"_parent\"><img src=\"https://colab.research.google.com/assets/colab-badge.svg\" alt=\"Open In Colab\"/></a>"
      ]
    },
    {
      "cell_type": "markdown",
      "source": [
        "##Agenda\n",
        "\n",
        "1. What is Hashtable or Hashmap?\n",
        "\n",
        "They are a type of data structure that maps keys to its value pairs. It implements the abstract array datatype. It makes it easier and faster to access data. \n",
        "\n",
        "In general, hashtables store key value pairs and the key is generated using a hash function. \n",
        "\n",
        "Implemented using the \"Dictionary\" datatype. \n",
        "\n",
        "2. Creating Dictionaries\n",
        "3. Nested Dictionaries\n",
        "4. Performing Operations on Hash Tables\n",
        "    - Accessing Items\n",
        "    - Updating Values\n",
        "    - Deleting Entries\n",
        "5. Converting Dictionaries into Dataframe\n"
      ],
      "metadata": {
        "id": "-R9kPGkdfIOg"
      }
    },
    {
      "cell_type": "code",
      "execution_count": 1,
      "metadata": {
        "colab": {
          "base_uri": "https://localhost:8080/"
        },
        "id": "8mHZ4fM1d0r8",
        "outputId": "a65e2650-36b5-42a9-c895-b4b2c839e16b"
      },
      "outputs": [
        {
          "output_type": "stream",
          "name": "stdout",
          "text": [
            "{'a': '1', 'b': '2'}\n"
          ]
        },
        {
          "output_type": "execute_result",
          "data": {
            "text/plain": [
              "dict"
            ]
          },
          "metadata": {},
          "execution_count": 1
        }
      ],
      "source": [
        "# Creating Dictionaries\n",
        "\n",
        "# method 1 -> using {}\n",
        "\n",
        "my_dict = {'a' : '1', 'b': \"2\"}\n",
        "\n",
        "print(my_dict)\n",
        "type(my_dict)"
      ]
    },
    {
      "cell_type": "code",
      "source": [
        "# method 2 -> using. dict()\n",
        "\n",
        "new_dict = dict(a = '1', b = \"2\")\n",
        "\n",
        "print(new_dict)\n",
        "type(new_dict)"
      ],
      "metadata": {
        "colab": {
          "base_uri": "https://localhost:8080/"
        },
        "id": "nLwum4UnggzL",
        "outputId": "162eb338-64f0-45c7-c97e-3dd4c0af68e3"
      },
      "execution_count": 2,
      "outputs": [
        {
          "output_type": "stream",
          "name": "stdout",
          "text": [
            "{'a': '1', 'b': '2'}\n"
          ]
        },
        {
          "output_type": "execute_result",
          "data": {
            "text/plain": [
              "dict"
            ]
          },
          "metadata": {},
          "execution_count": 2
        }
      ]
    },
    {
      "cell_type": "code",
      "source": [
        "# Nested Dictionaries -> dict. within a dict.\n",
        "\n",
        "emp_details = {'Employee': {'X': {'id': 1, 'salary': 500000, 'designation': 'database developer'}, \n",
        "                            'Y': {'id': 2, 'salary': 600000, 'designation': 'data scientist'}}}\n"
      ],
      "metadata": {
        "id": "vxv1m-Dxg5Pc"
      },
      "execution_count": 3,
      "outputs": []
    },
    {
      "cell_type": "code",
      "source": [
        "print(emp_details)"
      ],
      "metadata": {
        "colab": {
          "base_uri": "https://localhost:8080/"
        },
        "id": "QJSFZPGFh13z",
        "outputId": "d5470c33-9c13-44b5-b9e4-dceec0bf0fbe"
      },
      "execution_count": 4,
      "outputs": [
        {
          "output_type": "stream",
          "name": "stdout",
          "text": [
            "{'Employee': {'X': {'id': 1, 'salary': 500000, 'designation': 'database developer'}, 'Y': {'id': 2, 'salary': 600000, 'designation': 'data scientist'}}}\n"
          ]
        }
      ]
    },
    {
      "cell_type": "code",
      "source": [
        "\"\"\"\n",
        "Performing Operations on Hash Tables\n",
        "    - Accessing Items\n",
        "    - Updating Values\n",
        "    - Deleting Entries\n",
        "\"\"\"\n",
        "\n",
        "# Accessing Items\n",
        "\n",
        "my_dict['a']"
      ],
      "metadata": {
        "colab": {
          "base_uri": "https://localhost:8080/",
          "height": 34
        },
        "id": "ufZbTWV3iKiD",
        "outputId": "e2ad28bb-5b6c-4560-e1a2-40a333f081ca"
      },
      "execution_count": 5,
      "outputs": [
        {
          "output_type": "execute_result",
          "data": {
            "application/vnd.google.colaboratory.intrinsic+json": {
              "type": "string"
            },
            "text/plain": [
              "'1'"
            ]
          },
          "metadata": {},
          "execution_count": 5
        }
      ]
    },
    {
      "cell_type": "code",
      "source": [
        "print(my_dict)\n",
        "\n",
        "print(my_dict.keys())\n",
        "\n",
        "print(my_dict.values())\n",
        "\n",
        "#using get() and defining key inside the function\n",
        "print(my_dict.get('a'))\n",
        "\n",
        "#using for loop to print all keys\n",
        "for x in my_dict:\n",
        "  print(x)\n",
        "\n",
        "#using for loop to print all values\n",
        "for x in my_dict.values():\n",
        "  print(x)\n",
        "\n",
        "#using for loop to print keys and values\n",
        "for x,y in my_dict.items():\n",
        "  print(x,y)"
      ],
      "metadata": {
        "colab": {
          "base_uri": "https://localhost:8080/"
        },
        "id": "PQVMtuo7ijTS",
        "outputId": "98ca7d82-0f94-4584-86fd-a0a2ea2d47d0"
      },
      "execution_count": 6,
      "outputs": [
        {
          "output_type": "stream",
          "name": "stdout",
          "text": [
            "{'a': '1', 'b': '2'}\n",
            "dict_keys(['a', 'b'])\n",
            "dict_values(['1', '2'])\n",
            "1\n",
            "a\n",
            "b\n",
            "1\n",
            "2\n",
            "a 1\n",
            "b 2\n"
          ]
        }
      ]
    },
    {
      "cell_type": "code",
      "source": [
        "#updating values in dictionaries\n",
        "\n",
        "my_dict['a'] = 100\n",
        "print(my_dict)\n",
        "\n",
        "#adding key-value pair to dict\n",
        "my_dict['c'] = 3\n",
        "print(my_dict)"
      ],
      "metadata": {
        "colab": {
          "base_uri": "https://localhost:8080/"
        },
        "id": "IDNzhnpbiqVS",
        "outputId": "ff2efc41-3791-4fe1-f58b-89c83a99076f"
      },
      "execution_count": 7,
      "outputs": [
        {
          "output_type": "stream",
          "name": "stdout",
          "text": [
            "{'a': 100, 'b': '2'}\n",
            "{'a': 100, 'b': '2', 'c': 3}\n"
          ]
        }
      ]
    },
    {
      "cell_type": "code",
      "source": [
        "#deleting items in dictionary\n",
        "\n",
        "#method 1 -> pop()\n",
        "my_dict.pop('a')\n",
        "print(my_dict)\n",
        "\n",
        "#method 2 -> popitem() -> removes last element\n",
        "my_dict.popitem()\n",
        "print(my_dict)\n",
        "\n",
        "#method 3 -> del()\n",
        "del my_dict['b']\n",
        "print(my_dict)\n"
      ],
      "metadata": {
        "colab": {
          "base_uri": "https://localhost:8080/"
        },
        "id": "G7liI4iBjuSg",
        "outputId": "5868b4e4-b8be-4d61-89b9-739628c04457"
      },
      "execution_count": 8,
      "outputs": [
        {
          "output_type": "stream",
          "name": "stdout",
          "text": [
            "{'b': '2', 'c': 3}\n",
            "{'b': '2'}\n",
            "{}\n"
          ]
        }
      ]
    },
    {
      "cell_type": "code",
      "source": [
        "#printing nested dictionary for next segment\n",
        "\n",
        "print(emp_details)"
      ],
      "metadata": {
        "colab": {
          "base_uri": "https://localhost:8080/"
        },
        "id": "C40G8oNckmhr",
        "outputId": "f4df5a22-ef39-4671-cfac-2d1770193f9e"
      },
      "execution_count": 10,
      "outputs": [
        {
          "output_type": "stream",
          "name": "stdout",
          "text": [
            "{'Employee': {'X': {'id': 1, 'salary': 500000, 'designation': 'database developer'}, 'Y': {'id': 2, 'salary': 600000, 'designation': 'data scientist'}}}\n"
          ]
        }
      ]
    },
    {
      "cell_type": "code",
      "source": [
        "# Converting Dictionary to Dataframe\n",
        "\n",
        "import pandas as pd\n",
        "\n",
        "df = pd.DataFrame(emp_details['Employee'])\n",
        "\n",
        "print(df)"
      ],
      "metadata": {
        "colab": {
          "base_uri": "https://localhost:8080/"
        },
        "id": "f7Hr6VXrj9Ty",
        "outputId": "8e8bc014-ca9f-4475-dba3-cbc9d74c2290"
      },
      "execution_count": 11,
      "outputs": [
        {
          "output_type": "stream",
          "name": "stdout",
          "text": [
            "                              X               Y\n",
            "id                            1               2\n",
            "salary                   500000          600000\n",
            "designation  database developer  data scientist\n"
          ]
        }
      ]
    },
    {
      "cell_type": "code",
      "source": [
        ""
      ],
      "metadata": {
        "id": "4-VITsXPkipZ"
      },
      "execution_count": null,
      "outputs": []
    }
  ]
}