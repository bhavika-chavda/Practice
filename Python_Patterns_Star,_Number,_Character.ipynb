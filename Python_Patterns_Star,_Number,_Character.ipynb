{
  "nbformat": 4,
  "nbformat_minor": 0,
  "metadata": {
    "colab": {
      "name": "Python - Patterns - Star, Number, Character.ipynb",
      "provenance": [],
      "authorship_tag": "ABX9TyON3iEmlRUpcMBwHT84w5r4",
      "include_colab_link": true
    },
    "kernelspec": {
      "name": "python3",
      "display_name": "Python 3"
    },
    "language_info": {
      "name": "python"
    }
  },
  "cells": [
    {
      "cell_type": "markdown",
      "metadata": {
        "id": "view-in-github",
        "colab_type": "text"
      },
      "source": [
        "<a href=\"https://colab.research.google.com/github/bhavika-chavda/Practice/blob/main/Python_Patterns_Star%2C_Number%2C_Character.ipynb\" target=\"_parent\"><img src=\"https://colab.research.google.com/assets/colab-badge.svg\" alt=\"Open In Colab\"/></a>"
      ]
    },
    {
      "cell_type": "code",
      "execution_count": 1,
      "metadata": {
        "colab": {
          "base_uri": "https://localhost:8080/"
        },
        "id": "p3EYF7xJrbgR",
        "outputId": "04f55825-7b92-48e6-e576-5a9b3ebfc73c"
      },
      "outputs": [
        {
          "output_type": "stream",
          "name": "stdout",
          "text": [
            "        * \r\n",
            "       * * \r\n",
            "      * * * \r\n",
            "     * * * * \r\n",
            "    * * * * * \r\n"
          ]
        }
      ],
      "source": [
        "# Star Patterns\n",
        "\n",
        "\"\"\"\n",
        "Simple Pyramid\n",
        "\"\"\"\n",
        "\n",
        "def pattern(n):\n",
        "  k = 2*n -2\n",
        "  #k=n\n",
        "  for i in range(0,n):\n",
        "    for j in range(0,k):\n",
        "      print(end=\" \")\n",
        "    k = k-1\n",
        "    for j in range(0,i+1):\n",
        "      print(\"* \",end=\"\")\n",
        "    print(\"\\r\")\n",
        "\n",
        "pattern(5)    "
      ]
    },
    {
      "cell_type": "code",
      "source": [
        "\"\"\"\n",
        "Inverse Pyramid\n",
        "\"\"\"\n",
        "def pattern(n):\n",
        "  k = n-2\n",
        "  #k=n\n",
        "  for i in range(n,-1,-1):\n",
        "    for j in range(k,0,-1):\n",
        "      print(end=\" \")\n",
        "    k = k+1\n",
        "    for j in range(0,i+1):\n",
        "      print(\"* \",end=\"\")\n",
        "    print(\"\\r\")\n",
        "\n",
        "pattern(5) "
      ],
      "metadata": {
        "colab": {
          "base_uri": "https://localhost:8080/"
        },
        "id": "iHwRTkCSxdAl",
        "outputId": "8e1f990c-49f7-436a-c1cf-99407549c2c6"
      },
      "execution_count": 2,
      "outputs": [
        {
          "output_type": "stream",
          "name": "stdout",
          "text": [
            "   * * * * * * \r\n",
            "    * * * * * \r\n",
            "     * * * * \r\n",
            "      * * * \r\n",
            "       * * \r\n",
            "        * \r\n"
          ]
        }
      ]
    },
    {
      "cell_type": "code",
      "source": [
        "\"\"\"\n",
        "Right start pattern\n",
        "\"\"\"\n",
        "def pattern(n):\n",
        "  for i in range(0,n):\n",
        "    for j in range(0,i+1):\n",
        "      print(\"* \",end=\"\")\n",
        "    print(\"\\r\")\n",
        "  for i in range(n,-1,-1):\n",
        "    for j in range(0, i+1):\n",
        "      print(\"* \",end=\"\")\n",
        "    print(\"\\r\")\n",
        "      \n",
        "\n",
        "pattern(5) "
      ],
      "metadata": {
        "colab": {
          "base_uri": "https://localhost:8080/"
        },
        "id": "sr-6Siozyt4J",
        "outputId": "cd1ee815-bd56-422f-c14c-c718b13d1623"
      },
      "execution_count": 3,
      "outputs": [
        {
          "output_type": "stream",
          "name": "stdout",
          "text": [
            "* \r\n",
            "* * \r\n",
            "* * * \r\n",
            "* * * * \r\n",
            "* * * * * \r\n",
            "* * * * * * \r\n",
            "* * * * * \r\n",
            "* * * * \r\n",
            "* * * \r\n",
            "* * \r\n",
            "* \r\n"
          ]
        }
      ]
    },
    {
      "cell_type": "code",
      "source": [
        "\"\"\"\n",
        "Left start pattern\n",
        "\"\"\"\n",
        "def pattern(n):\n",
        "  k = 2*n -2\n",
        "  for i in range(0,n-1):\n",
        "    for j in range(0,k):\n",
        "      print(end=\" \")\n",
        "    k = k-2\n",
        "    for i in range(0, i+1):\n",
        "      print(\"* \",end=\"\")\n",
        "    print(\"\\r\")\n",
        "  k = k-1\n",
        "  for i in range(n-1,-1,-1):\n",
        "    for j in range(k,-1,-1):\n",
        "      print(end=\" \")\n",
        "    k = k + 2\n",
        "    for j in range(0, i+1):\n",
        "      print(\"* \",end = \"\" )\n",
        "    print(\"\\r\")\n",
        "      \n",
        "\n",
        "pattern(10) "
      ],
      "metadata": {
        "colab": {
          "base_uri": "https://localhost:8080/"
        },
        "id": "oJWRmRy_zhC3",
        "outputId": "8b03d3f9-0535-4c6d-efec-e5083f3f7b31"
      },
      "execution_count": 4,
      "outputs": [
        {
          "output_type": "stream",
          "name": "stdout",
          "text": [
            "                  * \r\n",
            "                * * \r\n",
            "              * * * \r\n",
            "            * * * * \r\n",
            "          * * * * * \r\n",
            "        * * * * * * \r\n",
            "      * * * * * * * \r\n",
            "    * * * * * * * * \r\n",
            "  * * * * * * * * * \r\n",
            "* * * * * * * * * * \r\n",
            "  * * * * * * * * * \r\n",
            "    * * * * * * * * \r\n",
            "      * * * * * * * \r\n",
            "        * * * * * * \r\n",
            "          * * * * * \r\n",
            "            * * * * \r\n",
            "              * * * \r\n",
            "                * * \r\n",
            "                  * \r\n"
          ]
        }
      ]
    },
    {
      "cell_type": "code",
      "source": [
        "\"\"\"\n",
        "Hour glass pattern\n",
        "\"\"\"\n",
        "\n",
        "def pattern(n):\n",
        "  k = n - 2\n",
        "  for i in range(n,-1,-1):\n",
        "    for j in range(k,0,-1):\n",
        "      print(end=\" \")\n",
        "    k = k+1\n",
        "    for j in range(0,i+1):\n",
        "      print(\"* \",end=\"\")\n",
        "    print(\"\\r\")\n",
        "  k = 2*n -2\n",
        "  #k=n\n",
        "  for i in range(0,n+1):\n",
        "    for j in range(0,k):\n",
        "      print(end=\" \")\n",
        "    k = k-1\n",
        "    for j in range(0,i+1):\n",
        "      print(\"* \",end=\"\")\n",
        "    print(\"\\r\")\n",
        "\n",
        "pattern(5)"
      ],
      "metadata": {
        "colab": {
          "base_uri": "https://localhost:8080/"
        },
        "id": "15ruBEm90zdW",
        "outputId": "718731aa-6168-4bb5-e860-d597093dfeab"
      },
      "execution_count": 5,
      "outputs": [
        {
          "output_type": "stream",
          "name": "stdout",
          "text": [
            "   * * * * * * \r\n",
            "    * * * * * \r\n",
            "     * * * * \r\n",
            "      * * * \r\n",
            "       * * \r\n",
            "        * \r\n",
            "        * \r\n",
            "       * * \r\n",
            "      * * * \r\n",
            "     * * * * \r\n",
            "    * * * * * \r\n",
            "   * * * * * * \r\n"
          ]
        }
      ]
    },
    {
      "cell_type": "code",
      "source": [
        "\"\"\"\n",
        "half right sided pyramid pattern\n",
        "\"\"\"\n",
        "def pattern(n):\n",
        "  for i in range(0,n):\n",
        "    for j in range(0,i+1):\n",
        "      print(\"* \", end=\"\")\n",
        "    print(\"\\r\")\n",
        "\n",
        "pattern(5)"
      ],
      "metadata": {
        "colab": {
          "base_uri": "https://localhost:8080/"
        },
        "id": "goXdQhgQ1lSA",
        "outputId": "d5e17123-d6a4-4747-bfc5-6460b77f66f5"
      },
      "execution_count": 6,
      "outputs": [
        {
          "output_type": "stream",
          "name": "stdout",
          "text": [
            "* \r\n",
            "* * \r\n",
            "* * * \r\n",
            "* * * * \r\n",
            "* * * * * \r\n"
          ]
        }
      ]
    },
    {
      "cell_type": "code",
      "source": [
        "\"\"\"\n",
        "half left sided pyramid pattern\n",
        "\"\"\"\n",
        "def pattern(n):\n",
        "  k = 2*n -2\n",
        "  for i in range(0,n):\n",
        "    for j in range(0,k):\n",
        "      print(end = \" \")\n",
        "    k = k-2\n",
        "    for j in range(0,i+1):\n",
        "      print(\"* \", end=\"\")\n",
        "    print(\"\\r\")\n",
        "\n",
        "pattern(5)"
      ],
      "metadata": {
        "colab": {
          "base_uri": "https://localhost:8080/"
        },
        "id": "nAJ0-gCi2H5Y",
        "outputId": "82c9691f-bcce-4955-c266-f64a23bd2f09"
      },
      "execution_count": 7,
      "outputs": [
        {
          "output_type": "stream",
          "name": "stdout",
          "text": [
            "        * \r\n",
            "      * * \r\n",
            "    * * * \r\n",
            "  * * * * \r\n",
            "* * * * * \r\n"
          ]
        }
      ]
    },
    {
      "cell_type": "code",
      "source": [
        "\"\"\"\n",
        "Downward half right pyramid\n",
        "\"\"\"\n",
        "n=5\n",
        "\n",
        "for i in range(n, -1, -1):\n",
        "  for j in range(0,i+1):\n",
        "    print(\"* \",end=\"\")\n",
        "  print(\"\\r\")"
      ],
      "metadata": {
        "id": "UJLvtVWk2pu9",
        "colab": {
          "base_uri": "https://localhost:8080/"
        },
        "outputId": "9a0b6ae4-8766-40f8-d298-fee8d6cc3a79"
      },
      "execution_count": 8,
      "outputs": [
        {
          "output_type": "stream",
          "name": "stdout",
          "text": [
            "* * * * * * \r\n",
            "* * * * * \r\n",
            "* * * * \r\n",
            "* * * \r\n",
            "* * \r\n",
            "* \r\n"
          ]
        }
      ]
    },
    {
      "cell_type": "code",
      "source": [
        "# DIAMOND pattern\n",
        "\n",
        "n = 10\n",
        "\n",
        "k= 2*n - 2\n",
        "for i in range(0,n):\n",
        "  for j in range(0,k):\n",
        "    print(end=\" \")\n",
        "  k=k-1\n",
        "  for j in range(0,i+1):\n",
        "    print(\"* \",end=\"\")\n",
        "  print(\"\\r\")\n",
        "k=n-2\n",
        "for i in range(n,-1,-1):\n",
        "  for j in range(k,0,-1):\n",
        "    print(end=\" \")\n",
        "  k=k+1\n",
        "  for j in range(0,i+1):\n",
        "    print(\"* \",end=\"\")\n",
        "  print(\"\\r\")"
      ],
      "metadata": {
        "colab": {
          "base_uri": "https://localhost:8080/"
        },
        "id": "JyfjdFrEeLzI",
        "outputId": "3006c0cc-bf2f-46c6-ba6f-d0c187aacad0"
      },
      "execution_count": 9,
      "outputs": [
        {
          "output_type": "stream",
          "name": "stdout",
          "text": [
            "                  * \r\n",
            "                 * * \r\n",
            "                * * * \r\n",
            "               * * * * \r\n",
            "              * * * * * \r\n",
            "             * * * * * * \r\n",
            "            * * * * * * * \r\n",
            "           * * * * * * * * \r\n",
            "          * * * * * * * * * \r\n",
            "         * * * * * * * * * * \r\n",
            "        * * * * * * * * * * * \r\n",
            "         * * * * * * * * * * \r\n",
            "          * * * * * * * * * \r\n",
            "           * * * * * * * * \r\n",
            "            * * * * * * * \r\n",
            "             * * * * * * \r\n",
            "              * * * * * \r\n",
            "               * * * * \r\n",
            "                * * * \r\n",
            "                 * * \r\n",
            "                  * \r\n"
          ]
        }
      ]
    },
    {
      "cell_type": "code",
      "source": [
        ""
      ],
      "metadata": {
        "id": "lxprwlRvfYtK"
      },
      "execution_count": 9,
      "outputs": []
    }
  ]
}