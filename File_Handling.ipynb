{
  "nbformat": 4,
  "nbformat_minor": 0,
  "metadata": {
    "colab": {
      "name": "File_Handling.ipynb",
      "provenance": [],
      "authorship_tag": "ABX9TyOLX7CwM2n6p/Xk3oAN5vl7",
      "include_colab_link": true
    },
    "kernelspec": {
      "name": "python3",
      "display_name": "Python 3"
    },
    "language_info": {
      "name": "python"
    }
  },
  "cells": [
    {
      "cell_type": "markdown",
      "metadata": {
        "id": "view-in-github",
        "colab_type": "text"
      },
      "source": [
        "<a href=\"https://colab.research.google.com/github/bhavika-chavda/Practice/blob/main/File_Handling.ipynb\" target=\"_parent\"><img src=\"https://colab.research.google.com/assets/colab-badge.svg\" alt=\"Open In Colab\"/></a>"
      ]
    },
    {
      "cell_type": "markdown",
      "source": [
        "#Introduction\n",
        "\n",
        "## Why do we need File Handling?\n",
        "\n",
        "Python input -> Arguments, Program Data -> Files\n",
        "\n",
        "Read larger data into files for reusability.\n",
        "\n",
        "## Types of Files\n",
        "\n",
        "- Images\n",
        "- Text -> sequence of characters/lines\n",
        "- Audio\n",
        "- Executable\n",
        "- Binary -> 0 and 1 -> not a text file\n",
        "\n",
        "##What is File Handling?\n",
        "\n",
        "CRUD operations performed on a file. \n",
        "\n",
        "1. C - Creating\n",
        "2. R - Reading\n",
        "3. U - Updating\n",
        "4. D - Deleting\n",
        "\n",
        "##File Functions:\n",
        "\n",
        "Mode:\n",
        "1. Read Mode -> \"r\".\n",
        "2. Append mode -> \"a\".\n",
        "3. Write Mode -> \"w\".\n",
        "4. Create Mode -> \"x\".\n",
        "\n",
        "Functions:\n",
        "\n",
        "1. open(\"file_name\", \"mode\") -> creates a new file or opens an existing file.\n",
        "\n",
        "Contains -> Filename + Mode\n",
        "\n",
        "2.  read() -> reads a file.\n",
        "- example 1: file_name.read()\n",
        "- example 2: file_name.read(5)      #the 5 in the read() tells the python interpretor to read only 5 characters and not the whole line.\n",
        "- example 3: file_name.readline() -> reads line by line\n",
        "- example 4: file_name.readline(3) -> reads 3rd line only\n",
        "- example 5: file_name.readlines() -> read all lines in a list format and separates all the lines\n",
        "\n",
        "3. Return all lines in a file: Use loops\n",
        "        file = open(\"file_name\", \"r\")\n",
        "        for line in file:\n",
        "          print(file.readline())\n",
        "\n",
        "4. write() \n",
        "\n",
        "- \"a\" -> append -> append to eof\n",
        "- \"w\" -> write -> overwrite over existing content\n",
        "\n",
        "5. create()\n",
        "- create a file\n",
        "- cannot create multiple files with same names\n",
        "- example: \n",
        "      file = open(\"file_name\",\"x\")\n",
        "\n",
        "##Deleting a File\n",
        "- os.remove() function required for deleting a file. \n",
        "- example:\n",
        "      import os\n",
        "      if os.path.exists(\"file_name.txt\"):\n",
        "        os.remove(\"file_name.txt\")\n",
        "      else:\n",
        "        print(\"file does not exists\")\n",
        "\n",
        "- example to delete a folder:\n",
        "      import os\n",
        "      os.rmdir(\"folder_name\")\n"
      ],
      "metadata": {
        "id": "aiOZoOnXh5aU"
      }
    },
    {
      "cell_type": "code",
      "execution_count": null,
      "metadata": {
        "id": "c4tMS4kihsle"
      },
      "outputs": [],
      "source": [
        ""
      ]
    }
  ]
}